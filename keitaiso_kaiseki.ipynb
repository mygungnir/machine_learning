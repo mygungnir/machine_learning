{
 "cells": [
  {
   "cell_type": "code",
   "execution_count": 2,
   "metadata": {},
   "outputs": [],
   "source": [
    "from janome.tokenizer import Tokenizer\n"
   ]
  },
  {
   "cell_type": "code",
   "execution_count": 3,
   "metadata": {},
   "outputs": [],
   "source": [
    "t = Tokenizer()\n"
   ]
  },
  {
   "cell_type": "code",
   "execution_count": 4,
   "metadata": {},
   "outputs": [
    {
     "name": "stdout",
     "output_type": "stream",
     "text": [
      "今日\t名詞,副詞可能,*,*,*,*,今日,キョウ,キョー\nは\t助詞,係助詞,*,*,*,*,は,ハ,ワ\n天気\t名詞,一般,*,*,*,*,天気,テンキ,テンキ\nが\t助詞,格助詞,一般,*,*,*,が,ガ,ガ\n良い\t形容詞,自立,*,*,形容詞・アウオ段,基本形,良い,ヨイ,ヨイ\n日\t名詞,非自立,副詞可能,*,*,*,日,ヒ,ヒ\nでし\t助動詞,*,*,*,特殊・デス,連用形,です,デシ,デシ\nた\t助動詞,*,*,*,特殊・タ,基本形,た,タ,タ\nよ\t助詞,終助詞,*,*,*,*,よ,ヨ,ヨ\n"
     ]
    }
   ],
   "source": [
    "malist = t.tokenize(\"今日は天気が良い日でしたよ\")\n",
    "for n in malist:\n",
    "    print(n)"
   ]
  },
  {
   "cell_type": "code",
   "execution_count": 27,
   "metadata": {},
   "outputs": [],
   "source": [
    "import zipfile as z\n",
    "import os.path, urllib.request as request"
   ]
  },
  {
   "cell_type": "code",
   "execution_count": 6,
   "metadata": {},
   "outputs": [],
   "source": [
    "#download the data\n",
    "url = \"http://www.aozora.gr.jp/cards/000081/files/462_ruby_716.zip\""
   ]
  },
  {
   "cell_type": "code",
   "execution_count": 7,
   "metadata": {},
   "outputs": [],
   "source": [
    "localfile = \"462_ruby_716.zip\""
   ]
  },
  {
   "cell_type": "code",
   "execution_count": 23,
   "metadata": {},
   "outputs": [
    {
     "name": "stdout",
     "output_type": "stream",
     "text": [
      "download the file\n"
     ]
    }
   ],
   "source": [
    "if not os.path.exists(localfile):\n",
    "    print(\"download the file\")\n",
    "    request.urlretrieve(url, localfile)"
   ]
  },
  {
   "cell_type": "code",
   "execution_count": 28,
   "metadata": {},
   "outputs": [],
   "source": [
    "zipfile = z.ZipFile(localfile, \"r\")"
   ]
  },
  {
   "cell_type": "code",
   "execution_count": 29,
   "metadata": {},
   "outputs": [],
   "source": [
    "file = zipfile.open(\"kazeno_matasaburo.txt\", \"r\")"
   ]
  },
  {
   "cell_type": "code",
   "execution_count": 30,
   "metadata": {},
   "outputs": [],
   "source": [
    "bindata = file.read()"
   ]
  },
  {
   "cell_type": "code",
   "execution_count": 31,
   "metadata": {},
   "outputs": [],
   "source": [
    "textdata = bindata.decode('shift_jis')"
   ]
  },
  {
   "cell_type": "code",
   "execution_count": 33,
   "metadata": {},
   "outputs": [],
   "source": [
    "t = Tokenizer()\n",
    "worddic = {}\n",
    "lines = textdata.split(\"\\r\\n\")"
   ]
  },
  {
   "cell_type": "code",
   "execution_count": 42,
   "metadata": {},
   "outputs": [],
   "source": [
    "for line in lines:\n",
    "    malist = t.tokenize(line)\n",
    "    for w in malist:\n",
    "        word = w.surface\n",
    "        part = w.part_of_speech\n",
    "        if part.find(\"名詞\") < 0: \n",
    "            continue\n",
    "        if not word in worddic:\n",
    "            worddic[word] = 0\n",
    "        worddic[word] += 1\n",
    "            \n",
    "            "
   ]
  },
  {
   "cell_type": "code",
   "execution_count": 43,
   "metadata": {},
   "outputs": [],
   "source": [
    "keys = sorted(worddic.items(), key = lambda x:x[1], reverse = True)"
   ]
  },
  {
   "cell_type": "code",
   "execution_count": 47,
   "metadata": {},
   "outputs": [
    {
     "name": "stdout",
     "output_type": "stream",
     "text": [
      "みんな(334)\n\n三郎(270)\n\nの(268)\n\nよう(228)\n\n一郎(182)\n\n嘉助(176)\n\n一(166)\n\n人(138)\n\nそれ(124)\n\n先生(122)\n\n馬(112)\n\n年生(106)\n\nほう(96)\n\n二(94)\n\n郎(94)\n\n三(88)\n\n風(78)\n\n中(78)\n\n助(78)\n\n前(74)\n\n耕(74)\n\n木(72)\n\n水(72)\n\n上(70)\n\nん(66)\n\n草(64)\n\n何(64)\n\n顔(52)\n\n手(52)\n\nさん(50)\n\nろ(50)\n\nら(50)\n\n目(50)\n\nとき(50)\n\n向こう(48)\n\nそう(48)\n\n子(46)\n\n佐太郎(46)\n\n教室(44)\n\nうし(44)\n\n下(44)\n\n五(42)\n\nところ(40)\n\nこと(40)\n\nおら(38)\n\nさ(38)\n\nそこ(38)\n\n栗(36)\n\n机(36)\n\n四(36)\n\n"
     ]
    }
   ],
   "source": [
    "for word, cnt in keys[:50]:\n",
    "    print(\"{0}({1})\\n\".format(word, cnt))"
   ]
  },
  {
   "cell_type": "code",
   "execution_count": 49,
   "metadata": {},
   "outputs": [],
   "source": [
    ""
   ]
  },
  {
   "cell_type": "code",
   "execution_count": 49,
   "metadata": {},
   "outputs": [],
   "source": [
    "\n"
   ]
  },
  {
   "cell_type": "code",
   "execution_count": null,
   "metadata": {},
   "outputs": [],
   "source": []
  }
 ],
 "metadata": {},
 "nbformat": 4,
 "nbformat_minor": 0
}
